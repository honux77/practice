{
 "cells": [
  {
   "cell_type": "markdown",
   "id": "89be35a8",
   "metadata": {},
   "source": [
    "# PDF to Images"
   ]
  },
  {
   "cell_type": "code",
   "execution_count": 16,
   "id": "46f98178",
   "metadata": {},
   "outputs": [
    {
     "name": "stdout",
     "output_type": "stream",
     "text": [
      "Requirement already satisfied: pdf2image in c:\\users\\k5020\\miniconda3\\lib\\site-packages (1.16.0)\n",
      "Requirement already satisfied: pillow in c:\\users\\k5020\\miniconda3\\lib\\site-packages (from pdf2image) (8.4.0)\n"
     ]
    }
   ],
   "source": [
    "!pip install pdf2image"
   ]
  },
  {
   "cell_type": "code",
   "execution_count": 17,
   "id": "f6ea70f1",
   "metadata": {},
   "outputs": [],
   "source": [
    "path = r\"C:\\Users\\k5020\\Downloads\\뉴토피아\"\n",
    "file = \"jp_Neutopia.pdf\""
   ]
  },
  {
   "cell_type": "code",
   "execution_count": 18,
   "id": "19f6494d",
   "metadata": {},
   "outputs": [
    {
     "name": "stdout",
     "output_type": "stream",
     "text": [
      "jp_Neutopia C:\\Users\\k5020\\Downloads\\뉴토피아\\jp_Neutopia.pdf\n"
     ]
    }
   ],
   "source": [
    "import os\n",
    "fullPath = os.path.join(path, file)\n",
    "name = os.path.splitext(file)[0]\n",
    "print(name, fullPath)"
   ]
  },
  {
   "cell_type": "code",
   "execution_count": 19,
   "id": "1b39ff94",
   "metadata": {},
   "outputs": [
    {
     "data": {
      "text/plain": [
       "True"
      ]
     },
     "execution_count": 19,
     "metadata": {},
     "output_type": "execute_result"
    }
   ],
   "source": [
    "os.path.isfile(fullPath)"
   ]
  },
  {
   "cell_type": "code",
   "execution_count": null,
   "id": "887400bf",
   "metadata": {},
   "outputs": [],
   "source": [
    "# import module\n",
    "from pdf2image import convert_from_path\n",
    " \n",
    " \n",
    "# Store Pdf with convert_from_path function\n",
    "images = convert_from_path(fullPath) \n"
   ]
  },
  {
   "cell_type": "code",
   "execution_count": null,
   "id": "fc98c25a",
   "metadata": {},
   "outputs": [],
   "source": [
    "for i in range(len(images)):\n",
    "   \n",
    "      # Save pages as images in the pdf\n",
    "    images[i].save('{}-{:03d}.png'.format(name,5), 'PNG')"
   ]
  },
  {
   "cell_type": "code",
   "execution_count": null,
   "id": "6bdfbf85",
   "metadata": {},
   "outputs": [],
   "source": []
  }
 ],
 "metadata": {
  "kernelspec": {
   "display_name": "Python 3",
   "language": "python",
   "name": "python3"
  }
 },
 "nbformat": 4,
 "nbformat_minor": 5
}
